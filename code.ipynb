{
 "cells": [
  {
   "cell_type": "code",
   "execution_count": 5,
   "id": "6d0e9ddb-c611-482c-acda-caafe0414d72",
   "metadata": {},
   "outputs": [
    {
     "name": "stdout",
     "output_type": "stream",
     "text": [
      "  Invoice StockCode                          Description  Quantity  \\\n",
      "0  489434     85048  15CM CHRISTMAS GLASS BALL 20 LIGHTS        12   \n",
      "1  489434    79323P                   PINK CHERRY LIGHTS        12   \n",
      "2  489434    79323W                  WHITE CHERRY LIGHTS        12   \n",
      "3  489434     22041         RECORD FRAME 7\" SINGLE SIZE         48   \n",
      "4  489434     21232       STRAWBERRY CERAMIC TRINKET BOX        24   \n",
      "\n",
      "          InvoiceDate  Price  CustomerID         Country  \n",
      "0 2009-12-01 07:45:00   6.95     13085.0  United Kingdom  \n",
      "1 2009-12-01 07:45:00   6.75     13085.0  United Kingdom  \n",
      "2 2009-12-01 07:45:00   6.75     13085.0  United Kingdom  \n",
      "3 2009-12-01 07:45:00   2.10     13085.0  United Kingdom  \n",
      "4 2009-12-01 07:45:00   1.25     13085.0  United Kingdom  \n",
      "       Invoice StockCode                     Description  Quantity  \\\n",
      "567937  539991     21618  4 WILDFLOWER BOTANICAL CANDLES         1   \n",
      "567938  539991     72741           GRAND CHOCOLATECANDLE         4   \n",
      "567939  539992     21470   FLOWER VINE RAFFIA FOOD COVER         1   \n",
      "567940  539992     22258         FELT FARM ANIMAL RABBIT         1   \n",
      "567941  539992     21155           RED RETROSPOT PEG BAG         1   \n",
      "\n",
      "               InvoiceDate  Price  CustomerID         Country  \n",
      "567937 2010-12-23 16:49:00   1.25         NaN  United Kingdom  \n",
      "567938 2010-12-23 16:49:00   1.45         NaN  United Kingdom  \n",
      "567939 2010-12-23 17:41:00   3.75         NaN  United Kingdom  \n",
      "567940 2010-12-23 17:41:00   1.25         NaN  United Kingdom  \n",
      "567941 2010-12-23 17:41:00   2.10         NaN  United Kingdom  \n",
      "<class 'pandas.core.frame.DataFrame'>\n",
      "RangeIndex: 567942 entries, 0 to 567941\n",
      "Data columns (total 8 columns):\n",
      " #   Column       Non-Null Count   Dtype         \n",
      "---  ------       --------------   -----         \n",
      " 0   Invoice      567942 non-null  object        \n",
      " 1   StockCode    567942 non-null  object        \n",
      " 2   Description  564889 non-null  object        \n",
      " 3   Quantity     567942 non-null  int64         \n",
      " 4   InvoiceDate  567942 non-null  datetime64[ns]\n",
      " 5   Price        567942 non-null  float64       \n",
      " 6   CustomerID   444384 non-null  float64       \n",
      " 7   Country      567942 non-null  object        \n",
      "dtypes: datetime64[ns](1), float64(2), int64(1), object(4)\n",
      "memory usage: 34.7+ MB\n",
      "None\n",
      "            Quantity                    InvoiceDate          Price  \\\n",
      "count  567942.000000                         567942  567942.000000   \n",
      "mean       10.167005  2010-07-10 20:15:54.157642752       4.796829   \n",
      "min     -9600.000000            2009-12-01 07:45:00  -53594.360000   \n",
      "25%         1.000000            2010-03-29 09:59:00       1.250000   \n",
      "50%         3.000000            2010-07-26 09:07:00       2.100000   \n",
      "75%        10.000000            2010-11-01 12:08:00       4.210000   \n",
      "max     19152.000000            2010-12-23 17:41:00   25111.090000   \n",
      "std       104.578722                            NaN     145.652632   \n",
      "\n",
      "          CustomerID  \n",
      "count  444384.000000  \n",
      "mean    15370.241721  \n",
      "min     12346.000000  \n",
      "25%     13999.000000  \n",
      "50%     15325.000000  \n",
      "75%     16823.000000  \n",
      "max     18287.000000  \n",
      "std      1684.786534  \n"
     ]
    }
   ],
   "source": [
    "# Exercice 1 : Charger le dataset et explorer les premières données\n",
    "import pandas as pd\n",
    "# Charger le dataset depuis un fichier CSV ou Excel\n",
    "df = pd.read_excel('Dataset.xlsx')  \n",
    "# Afficher les 5 premières lignes\n",
    "print(df.head()) \n",
    "# Afficher les 5 dernières lignes\n",
    "print(df.tail())\n",
    "# Afficher les informations générales sur le DataFrame\n",
    "print(df.info())\n",
    "# Résumé statistique des colonnes numériques \n",
    "print(df.describe())"
   ]
  },
  {
   "cell_type": "code",
   "execution_count": null,
   "id": "b790a87e-2527-4236-98cb-a2928baf5b94",
   "metadata": {},
   "outputs": [],
   "source": []
  },
  {
   "cell_type": "code",
   "execution_count": 24,
   "id": "d9e1b0e9-5901-49a7-8a62-2d603a39db58",
   "metadata": {},
   "outputs": [
    {
     "name": "stdout",
     "output_type": "stream",
     "text": [
      "Invoice             0\n",
      "StockCode           0\n",
      "Description      3053\n",
      "Quantity            0\n",
      "InvoiceDate         0\n",
      "Price               0\n",
      "CustomerID     123558\n",
      "Country             0\n",
      "dtype: int64\n",
      "Invoice        0\n",
      "StockCode      0\n",
      "Description    0\n",
      "Quantity       0\n",
      "InvoiceDate    0\n",
      "Price          0\n",
      "CustomerID     0\n",
      "Country        0\n",
      "dtype: int64\n"
     ]
    }
   ],
   "source": [
    "# Exercice 2 : Identifier et traiter les valeurs manquantes\n",
    "import pandas as pd\n",
    "df = pd.read_excel('Dataset.xlsx')  \n",
    "# Vérifier les valeurs manquantes dans chaque colonne\n",
    "print(df.isna().sum())\n",
    "# Remplacer les valeurs manquantes de CustomerID par 0 \n",
    "df['CustomerID'] = df['CustomerID'].fillna(0)\n",
    "# Supprimer les lignes avec des valeurs manquantes dans Description\n",
    "df.dropna(subset=['Description'], inplace=True)\n",
    "# Vérifier si les valeurs manquantes ont été traitées \n",
    "print(df.isna().sum())"
   ]
  },
  {
   "cell_type": "code",
   "execution_count": null,
   "id": "9a382744-9158-4633-b2f7-4f76dd97f716",
   "metadata": {},
   "outputs": [],
   "source": []
  },
  {
   "cell_type": "code",
   "execution_count": 10,
   "id": "156b1aa0-2bd8-4120-a949-a7047d977dea",
   "metadata": {
    "scrolled": true
   },
   "outputs": [
    {
     "name": "stdout",
     "output_type": "stream",
     "text": [
      "        Invoice StockCode                         Description  Quantity  \\\n",
      "178     C489449     22087            PAPER BUNTING WHITE LACE       -12   \n",
      "179     C489449    85206A        CREAM FELT EASTER EGG BASKET        -6   \n",
      "180     C489449     21895       POTTING SHED SOW 'N' GROW SET        -4   \n",
      "181     C489449     21896                  POTTING SHED TWINE        -6   \n",
      "182     C489449     22083          PAPER CHAIN KIT RETRO SPOT       -12   \n",
      "...         ...       ...                                 ...       ...   \n",
      "567083  C539950    85099C      JUMBO  BAG BAROQUE BLACK WHITE        -1   \n",
      "567084  C539950    85099B             JUMBO BAG RED RETROSPOT       -10   \n",
      "567085  C539950     22720   SET OF 3 CAKE TINS PANTRY DESIGN         -2   \n",
      "567157  C539956    35004C     SET OF 3 COLOURED  FLYING DUCKS       -15   \n",
      "567792  C539983     82483  WOOD 2 DRAWER CABINET WHITE FINISH        -6   \n",
      "\n",
      "               InvoiceDate  Price  CustomerID         Country  \n",
      "178    2009-12-01 10:33:00   2.95     16321.0       Australia  \n",
      "179    2009-12-01 10:33:00   1.65     16321.0       Australia  \n",
      "180    2009-12-01 10:33:00   4.25     16321.0       Australia  \n",
      "181    2009-12-01 10:33:00   2.10     16321.0       Australia  \n",
      "182    2009-12-01 10:33:00   2.95     16321.0       Australia  \n",
      "...                    ...    ...         ...             ...  \n",
      "567083 2010-12-23 11:50:00   1.95     13534.0  United Kingdom  \n",
      "567084 2010-12-23 11:50:00   1.95     13534.0  United Kingdom  \n",
      "567085 2010-12-23 11:50:00   4.95     13534.0  United Kingdom  \n",
      "567157 2010-12-23 12:55:00   4.65     12980.0  United Kingdom  \n",
      "567792 2010-12-23 14:49:00   4.95     15856.0  United Kingdom  \n",
      "\n",
      "[11235 rows x 8 columns]\n",
      "       Invoice StockCode                 Description  Quantity  \\\n",
      "263     489464     21733                85123a mixed         0   \n",
      "283     489463     71477                       short         0   \n",
      "284     489467    85123A                 21733 mixed         0   \n",
      "3162    489660     35956                        lost         0   \n",
      "3168    489663    35605A                     damages         0   \n",
      "...        ...       ...                         ...       ...   \n",
      "566965  539856     21888                   BINGO SET         2   \n",
      "566966  539856     21539   RED RETROSPOT BUTTER DISH         3   \n",
      "566967  539856     21258  VICTORIAN SEWING BOX LARGE         3   \n",
      "566968  539856     21116                OWL DOORSTOP         1   \n",
      "566969  539856     20719      WOODLAND CHARLOTTE BAG         1   \n",
      "\n",
      "               InvoiceDate  Price  CustomerID         Country  \n",
      "263    2009-12-01 10:52:00    0.0         0.0  United Kingdom  \n",
      "283    2009-12-01 10:52:00    0.0         0.0  United Kingdom  \n",
      "284    2009-12-01 10:53:00    0.0         0.0  United Kingdom  \n",
      "3162   2009-12-01 17:43:00    0.0         0.0  United Kingdom  \n",
      "3168   2009-12-01 18:02:00    0.0         0.0  United Kingdom  \n",
      "...                    ...    ...         ...             ...  \n",
      "566965 2010-12-22 14:41:00    0.0         0.0  United Kingdom  \n",
      "566966 2010-12-22 14:41:00    0.0         0.0  United Kingdom  \n",
      "566967 2010-12-22 14:41:00    0.0         0.0  United Kingdom  \n",
      "566968 2010-12-22 14:41:00    0.0         0.0  United Kingdom  \n",
      "566969 2010-12-22 14:41:00    0.0         0.0  United Kingdom  \n",
      "\n",
      "[910 rows x 8 columns]\n"
     ]
    }
   ],
   "source": [
    "# Exercice 3 : Gérer les données incohérentes\n",
    "# Vérifier les valeurs négatives dans Quantity\n",
    "neg_quantity = df[df['Quantity'] < 0] \n",
    "print(neg_quantity) \n",
    "# Remplacer les valeurs négatives de Quantity par 0 \n",
    "df['Quantity'] = df['Quantity'].apply(lambda x: 0 if x < 0 else x)\n",
    "# Vérifier les valeurs aberrantes dans Price (ex: Prix inférieur à 0) \n",
    "outliers = df[df['Price'] <= 0] \n",
    "print(outliers)\n",
    "# Supprimer les lignes où Price est inférieur ou égal à 0 \n",
    "df = df[df['Price'] > 0]"
   ]
  },
  {
   "cell_type": "code",
   "execution_count": 25,
   "id": "7c020325-cd9e-47a5-a290-78c15ef645d4",
   "metadata": {},
   "outputs": [
    {
     "name": "stdout",
     "output_type": "stream",
     "text": [
      "          InvoiceDate  Year   Price\n",
      "0 2009-12-01 07:45:00  2009  0.0695\n",
      "1 2009-12-01 07:45:00  2009  0.0675\n",
      "2 2009-12-01 07:45:00  2009  0.0675\n",
      "3 2009-12-01 07:45:00  2009  0.0210\n",
      "4 2009-12-01 07:45:00  2009  0.0125\n"
     ]
    }
   ],
   "source": [
    "# Exercice 4 : Transformer les colonnes et formater les données\n",
    "# Convertir CustomerID en int64 \n",
    "df['CustomerID'] = df['CustomerID'].astype('int64')\n",
    "# Extraire l'année de InvoiceDate et créer une nouvelle colonne Year\n",
    "df['Year'] = pd.DatetimeIndex(df['InvoiceDate']).year\n",
    "# Normaliser les données de Price en les divisant par 100\n",
    "df['Price'] = df['Price'] / 100\n",
    "# Vérifier le résultat\n",
    "print(df[['InvoiceDate', 'Year', 'Price']].head())\n"
   ]
  },
  {
   "cell_type": "code",
   "execution_count": 28,
   "id": "4b4c4ad0-9208-4193-9d15-f1ef34a0f2b4",
   "metadata": {},
   "outputs": [
    {
     "name": "stdout",
     "output_type": "stream",
     "text": [
      "  Invoice StockCode                          Description  Quantity  \\\n",
      "0  489434     85048  15CM CHRISTMAS GLASS BALL 20 LIGHTS        12   \n",
      "1  489434    79323P                   PINK CHERRY LIGHTS        12   \n",
      "2  489434    79323W                  WHITE CHERRY LIGHTS        12   \n",
      "3  489434     22041         RECORD FRAME 7\" SINGLE SIZE         48   \n",
      "4  489434     21232       STRAWBERRY CERAMIC TRINKET BOX        24   \n",
      "\n",
      "          InvoiceDate   Price  CustomerID         Country  Year  \n",
      "0 2009-12-01 07:45:00  0.0695       13085  United Kingdom  2009  \n",
      "1 2009-12-01 07:45:00  0.0675       13085  United Kingdom  2009  \n",
      "2 2009-12-01 07:45:00  0.0675       13085  United Kingdom  2009  \n",
      "3 2009-12-01 07:45:00  0.0210       13085  United Kingdom  2009  \n",
      "4 2009-12-01 07:45:00  0.0125       13085  United Kingdom  2009  \n",
      "Empty DataFrame\n",
      "Columns: [Invoice, StockCode, Description, Quantity, InvoiceDate, Price, CustomerID, Country, Year]\n",
      "Index: []\n",
      "  Invoice StockCode                          Description  Quantity  \\\n",
      "0  489434     85048  15CM CHRISTMAS GLASS BALL 20 LIGHTS        12   \n",
      "1  489434    79323P                   PINK CHERRY LIGHTS        12   \n",
      "2  489434    79323W                  WHITE CHERRY LIGHTS        12   \n",
      "3  489434     22041         RECORD FRAME 7\" SINGLE SIZE         48   \n",
      "4  489434     21232       STRAWBERRY CERAMIC TRINKET BOX        24   \n",
      "\n",
      "          InvoiceDate   Price  CustomerID         Country  Year  \n",
      "0 2009-12-01 07:45:00  0.0695       13085  United Kingdom  2009  \n",
      "1 2009-12-01 07:45:00  0.0675       13085  United Kingdom  2009  \n",
      "2 2009-12-01 07:45:00  0.0675       13085  United Kingdom  2009  \n",
      "3 2009-12-01 07:45:00  0.0210       13085  United Kingdom  2009  \n",
      "4 2009-12-01 07:45:00  0.0125       13085  United Kingdom  2009  \n"
     ]
    }
   ],
   "source": [
    "# Exercice 5 : Créer des sous-ensembles de données\n",
    "# Sous-ensemble des transactions provenant du United Kingdom \n",
    "df_uk = df[df['Country'] == 'United Kingdom']\n",
    "print(df_uk.head())\n",
    "# Sous-ensemble où Quantity > 10 et Price > 2 \n",
    "df_filtered = df[(df['Quantity'] > 10) & (df['Price'] > 2)]\n",
    "print(df_filtered.head())\n",
    "# Sous-ensemble avec CustomerID valide \n",
    "df_valid_customers = df[df['CustomerID'] != 0] \n",
    "print(df_valid_customers.head())"
   ]
  },
  {
   "cell_type": "code",
   "execution_count": 30,
   "id": "74c67278-3181-4425-bbc8-929001a13ceb",
   "metadata": {},
   "outputs": [
    {
     "name": "stdout",
     "output_type": "stream",
     "text": [
      "Nombre de doublons : 29460\n",
      "Nombre de lignes après suppression des doublons : 535429\n"
     ]
    }
   ],
   "source": [
    "# Exercice 6 : Détection des doublons et nettoyage\n",
    "# Vérifier les doublons \n",
    "doublons = df.duplicated() \n",
    "print(f\"Nombre de doublons : {doublons.sum()}\")\n",
    "# Supprimer les doublons\n",
    "df_cleaned = df.drop_duplicates()\n",
    "# Vérifier que les doublons ont été supprimés \n",
    "print(f\"Nombre de lignes après suppression des doublons : {df_cleaned.shape[0]}\")"
   ]
  },
  {
   "cell_type": "code",
   "execution_count": null,
   "id": "15885bea-6f2b-45d8-a8f9-843b656b679b",
   "metadata": {},
   "outputs": [],
   "source": [
    "# Exercice 7 : Détection et traitement des données nulles\n",
    "# Charger le dataset (assumer que df contient déjà le DataFrame)\n",
    "df = pd.read_excel('Dataset.xlsx')  \n",
    "\n",
    "# 1. Identifier les colonnes contenant des valeurs nulles \n",
    "valeurs_nulles = df.isnull().sum() \n",
    "print(\"Nombre de valeurs nulles par colonne :\") \n",
    "print(valeurs_nulles)\n",
    "\n",
    "# 2. Calculer le pourcentage de valeurs manquantes pour chaque colonne\n",
    "pourcentage_null = (df.isnull().sum() / df.shape[0]) * 100 \n",
    "print(\"\\nPourcentage de valeurs manquantes par colonne :\")\n",
    "print(pourcentage_null)\n",
    "\n",
    "# 3. Remplacer les valeurs nulles de CustomerID par 0\n",
    "df['CustomerID'] = df['CustomerID'].fillna(0)\n",
    "\n",
    "# 4. Remplacer les valeurs nulles dans Description par \"No Description\"\n",
    "df['Description'] = df['Description'].fillna('No Description')\n",
    "\n",
    "# 5. Supprimer les lignes où plus de 2 colonnes contiennent des valeurs nulles \n",
    "df_cleaned = df.dropna(thresh=df.shape[1] - 2)\n",
    "\n",
    "# Vérification après traitement \n",
    "print(\"\\nValeurs nulles après traitement :\") \n",
    "print(df_cleaned.isnull().sum())\n",
    "\n",
    "# Sauvegarder le DataFrame nettoyé dans un nouveau fichier CSV \n",
    "df_cleaned.to_csv('dataset_cleaned.csv', index=False) \n",
    "print(\"Le fichier dataset_cleaned.csv a été enregistré avec succès.\")\n"
   ]
  },
  {
   "cell_type": "code",
   "execution_count": null,
   "id": "cb8232a5-1a29-4c6c-885d-c31f2cddd9b3",
   "metadata": {},
   "outputs": [],
   "source": []
  },
  {
   "cell_type": "code",
   "execution_count": 35,
   "id": "feda9930-7f43-4652-aeed-d64f7ede8891",
   "metadata": {},
   "outputs": [
    {
     "name": "stdout",
     "output_type": "stream",
     "text": [
      "Le fichier dataset_cleaned.csv a été enregistré avec succès.\n"
     ]
    }
   ],
   "source": [
    "# Exercice 8 : Sauvegarder le DataFrame nettoyé\n",
    "# Sauvegarder le DataFrame nettoyé dans un fichier CSV \n",
    "df_cleaned.to_csv('dataset_cleaned.csv', index=False)\n",
    "# Vérifier que le fichier a été créé \n",
    "print(\"Le fichier dataset_cleaned.csv a été enregistré avec succès.\")"
   ]
  }
 ],
 "metadata": {
  "kernelspec": {
   "display_name": "Python 3 (ipykernel)",
   "language": "python",
   "name": "python3"
  },
  "language_info": {
   "codemirror_mode": {
    "name": "ipython",
    "version": 3
   },
   "file_extension": ".py",
   "mimetype": "text/x-python",
   "name": "python",
   "nbconvert_exporter": "python",
   "pygments_lexer": "ipython3",
   "version": "3.12.4"
  }
 },
 "nbformat": 4,
 "nbformat_minor": 5
}
